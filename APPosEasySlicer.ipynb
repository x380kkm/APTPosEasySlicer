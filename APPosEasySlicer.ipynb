{
  "cells": [
    {
      "cell_type": "markdown",
      "metadata": {
        "id": "view-in-github",
        "colab_type": "text"
      },
      "source": [
        "<a href=\"https://colab.research.google.com/github/x380kkm/APTPosEasySlicer/blob/main/APPosEasySlicer.ipynb\" target=\"_parent\"><img src=\"https://colab.research.google.com/assets/colab-badge.svg\" alt=\"Open In Colab\"/></a>"
      ]
    },
    {
      "cell_type": "markdown",
      "source": [
        "# Import, read"
      ],
      "metadata": {
        "id": "ppVLgNEwfQ4s"
      }
    },
    {
      "cell_type": "code",
      "execution_count": 1,
      "metadata": {
        "id": "FGR76BWND2Xa"
      },
      "outputs": [],
      "source": [
        "import numpy as np\n",
        "import pandas as pd\n",
        "from joblib import Parallel, delayed\n",
        "from tqdm import tqdm\n",
        "import matplotlib.pyplot as plt\n",
        "from scipy.ndimage import gaussian_filter\n",
        "import plotly.graph_objs as go\n",
        "import plotly.express as px\n"
      ]
    },
    {
      "cell_type": "code",
      "execution_count": 2,
      "metadata": {
        "colab": {
          "base_uri": "https://localhost:8080/"
        },
        "id": "mLXKlWmpLGB7",
        "outputId": "1bb492e7-e83a-4121-a2eb-776805a054d6"
      },
      "outputs": [
        {
          "output_type": "stream",
          "name": "stdout",
          "text": [
            "Mounted at /content/drive\n"
          ]
        }
      ],
      "source": [
        "from google.colab import drive\n",
        "drive.mount('/content/drive')"
      ]
    },
    {
      "cell_type": "markdown",
      "metadata": {
        "id": "sWPc3m5jNf2g"
      },
      "source": [
        "# Read .pos file"
      ]
    },
    {
      "cell_type": "markdown",
      "metadata": {
        "id": "TR8mN-8nNNCa"
      },
      "source": [
        "**Put posfile into google drive**\n",
        "\n",
        "**Put posfile path here**"
      ]
    },
    {
      "cell_type": "code",
      "execution_count": null,
      "metadata": {
        "id": "N0o1jXX1NAhg"
      },
      "outputs": [],
      "source": [
        "#e.g.: posfile ='/content/drive/MyDrive/dspacing/*****.POS'\n",
        "posfile ="
      ]
    },
    {
      "cell_type": "markdown",
      "metadata": {
        "id": "UW7Za0ojNlda"
      },
      "source": [
        "Pos file reader"
      ]
    },
    {
      "cell_type": "code",
      "execution_count": null,
      "metadata": {
        "id": "-shdmm8nNVra"
      },
      "outputs": [],
      "source": [
        "file_name=posfile\n",
        "print(f'pos file {file_name} is being read...')\n",
        "\n",
        "with open(file_name, 'rb') as f:\n",
        "    #get file size and bring file pointer back\n",
        "    f.seek(0, 2)\n",
        "    file_size = f.tell()\n",
        "    f.seek(0)\n",
        "\n",
        "    #initial nb set zero\n",
        "    float_size = 4\n",
        "    total_floats = file_size // float_size\n",
        "    nb = total_floats // 4\n",
        "    flo = np.zeros((4, nb), dtype=np.float32)\n",
        "\n",
        "    #read file, using tqdm show process\n",
        "    update_step = 10000\n",
        "    num_updates = nb // update_step + 1\n",
        "    with tqdm(total=nb, desc='Reading file', unit='group', mininterval=1.0) as pbar:\n",
        "        for i in range(num_updates):\n",
        "            start = i * update_step\n",
        "            end = min((i + 1) * update_step, nb)\n",
        "            data = np.fromfile(f, dtype='>f4', count=4*(end-start)).reshape(end-start, 4)\n",
        "            flo[:, start:end] = data.T\n",
        "            pbar.update(end - start)\n",
        "\n",
        "df = pd.DataFrame(flo.T, columns=['x', 'y', 'z', 'm'])\n",
        "print('OK, file read, variables created.')\n",
        "print('DataFrame created:')\n"
      ]
    },
    {
      "cell_type": "markdown",
      "metadata": {
        "id": "1rmonWnWckOL"
      },
      "source": [
        "Data info"
      ]
    },
    {
      "cell_type": "code",
      "execution_count": null,
      "metadata": {
        "id": "BgbXjt9RXi1K"
      },
      "outputs": [],
      "source": [
        "print(\"*********************************************************\")\n",
        "print(\"data info\")\n",
        "print(df.info())\n",
        "print(\"*********************************************************\")\n",
        "print(\"data examples\")\n",
        "df"
      ]
    },
    {
      "cell_type": "markdown",
      "metadata": {
        "id": "JhL-oMcudnDJ"
      },
      "source": [
        "# slice data by z"
      ]
    },
    {
      "cell_type": "markdown",
      "metadata": {
        "id": "xUEcaKitrPLK"
      },
      "source": [
        "**If you want to use bins to slice, you can set the count of bins here.**\n",
        "\n",
        "Each bin have same number of ions\n",
        "\n",
        "Also you can check Z-axis infos in the figure"
      ]
    },
    {
      "cell_type": "code",
      "execution_count": null,
      "metadata": {
        "id": "UbhHPcKpviap"
      },
      "outputs": [],
      "source": [
        "bins = 20\n",
        "\n",
        "\n",
        "step = 10\n",
        "total_samples = len(df)\n",
        "\n",
        "bin_edges = np.linspace(df['z'].min(), df['z'].max(), bins+1)\n",
        "\n",
        "bin_counts, _ = np.histogram(df['z'], bins=bin_edges)\n",
        "bin_percentages = (bin_counts / total_samples) * 100\n",
        "cumulative_percentages = np.cumsum(bin_percentages)\n",
        "\n",
        "\n",
        "sorted_df = df.sort_values(by='z')\n",
        "bin_means = [sorted_df[(sorted_df['z'] > bin_edges[i]) & (sorted_df['z'] <= bin_edges[i+1])]['z'].mean() for i in range(len(bin_edges)-1)]\n",
        "\n",
        "\n",
        "plt.figure(figsize=(14, 8))\n",
        "\n",
        "ax1 = plt.gca()\n",
        "\n",
        "ax1.plot(cumulative_percentages, bin_means, marker='o', linestyle='-', color='b', label='Mean Z value per bin')\n",
        "\n",
        "\n",
        "xticks = np.linspace(0, 100, bins//step )\n",
        "ax1.set_xticks(xticks)\n",
        "ax1.set_xticklabels(np.round(xticks, 2), rotation=90)\n",
        "\n",
        "bin_steps = np.arange(1, bins+1, step)\n",
        "\n",
        "\n",
        "ax1.set_xlabel('Cumulative Ion Percentage')\n",
        "ax1.set_ylabel('Mean Z value')\n",
        "plt.title('Mean Z value across different cumulative ion percentage bins')\n",
        "ax1.grid(True)\n",
        "ax1.legend(loc='upper right')\n",
        "\n",
        "plt.show()\n",
        "\n",
        "sub_size = len(sorted_df) // bins\n",
        "remainder = len(sorted_df) % bins\n",
        "sub_dfs = []\n",
        "start = 0\n",
        "for i in range(bins):\n",
        "    end = start + sub_size + (1 if i < remainder else 0)\n",
        "    sub_dfs.append(sorted_df.iloc[start:end].reset_index(drop=True))\n",
        "    start = end\n",
        "\n",
        "del  bin_counts, bin_edges, bin_means, bin_percentages, cumulative_percentages"
      ]
    },
    {
      "cell_type": "markdown",
      "metadata": {
        "id": "ax8UnlZPh_PF"
      },
      "source": [
        "zmax subset info"
      ]
    },
    {
      "cell_type": "code",
      "execution_count": null,
      "metadata": {
        "id": "5g9pNtbPhx6L"
      },
      "outputs": [],
      "source": [
        "print(\"*********************************************************\")\n",
        "print(\"data info\")\n",
        "print(sub_dfs[0].info())\n",
        "print(\"*********************************************************\")\n",
        "print(\"data examples\")\n",
        "sub_dfs[0]\n"
      ]
    },
    {
      "cell_type": "markdown",
      "metadata": {
        "id": "ZiYynHQBq_yQ"
      },
      "source": [
        "zmin subset info"
      ]
    },
    {
      "cell_type": "code",
      "execution_count": null,
      "metadata": {
        "id": "aCw8OxsNqzxi"
      },
      "outputs": [],
      "source": [
        "print(\"*********************************************************\")\n",
        "print(\"data info\")\n",
        "print(sub_dfs[-1].info())\n",
        "print(\"*********************************************************\")\n",
        "print(\"data examples\")\n",
        "sub_dfs[-1]"
      ]
    },
    {
      "cell_type": "markdown",
      "source": [
        "Drawer"
      ],
      "metadata": {
        "id": "E_9pb5XTeLHk"
      }
    },
    {
      "cell_type": "code",
      "execution_count": null,
      "metadata": {
        "id": "aIXRccM-21lT"
      },
      "outputs": [],
      "source": [
        "def heatmap(dataset, res=280, sm=1, fsize=30, mi=None, mx=None):\n",
        "    # Set min and max if not provided\n",
        "    if mi is None:\n",
        "        mi = min(min(dataset['x']), min(dataset['y']))\n",
        "    if mx is None:\n",
        "        mx = max(max(dataset['x']), max(dataset['y']))\n",
        "\n",
        "    # Create the histogram bins\n",
        "    ctr = np.linspace(mi, mx, res)\n",
        "\n",
        "    # Compute the 2D histogram\n",
        "    H, xedges, yedges = np.histogram2d(dataset['x'], dataset['y'], bins=[ctr, ctr])\n",
        "\n",
        "    # Apply Gaussian smoothing if sm == 1\n",
        "    if sm == 1:\n",
        "        H = gaussian_filter(H, sigma=1)\n",
        "\n",
        "    # Create meshgrid for plotly heatmap\n",
        "    X, Y = np.meshgrid(xedges[:-1], yedges[:-1])\n",
        "\n",
        "    # Create heatmap\n",
        "    fig = go.Figure(data=go.Heatmap(\n",
        "        z=H.T,\n",
        "        x=xedges,\n",
        "        y=yedges,\n",
        "        colorscale='Viridis'\n",
        "    ))\n",
        "\n",
        "    # Update layout for better visualization\n",
        "    fig.update_layout(\n",
        "        title='heatmap',\n",
        "        xaxis_title='X Axis',\n",
        "        yaxis_title='Y Axis',\n",
        "        xaxis=dict(\n",
        "            scaleanchor=\"y\",\n",
        "            scaleratio=1,\n",
        "            range=[mi, mx]\n",
        "        ),\n",
        "        yaxis=dict(\n",
        "            range=[mi, mx]\n",
        "        ),\n",
        "        width=800,\n",
        "        height=800\n",
        "    )\n",
        "\n",
        "    fig.show()\n",
        "\n"
      ]
    },
    {
      "cell_type": "markdown",
      "metadata": {
        "id": "YBP4cTN9rmZM"
      },
      "source": [
        "**Choose bins if you want to use bin slicer**"
      ]
    },
    {
      "cell_type": "code",
      "execution_count": null,
      "metadata": {
        "id": "X_2I2TbcrqWl"
      },
      "outputs": [],
      "source": [
        "#e.g.:choosed = [0,10,19]\n",
        "choosed=\n",
        "\n",
        "z_mean = lambda x: sub_dfs[x]['z'].mean()\n",
        "\n",
        "for x in choosed:\n",
        "    mean_value = z_mean(x)\n",
        "    print(f'The mean of z for sub_df {x}/{bins} is {mean_value}')"
      ]
    },
    {
      "cell_type": "markdown",
      "source": [
        "Bin slicer"
      ],
      "metadata": {
        "id": "2_PZ4hdMeON1"
      }
    },
    {
      "cell_type": "code",
      "source": [
        "for x in choosed:\n",
        "    print(\"*******************************\")\n",
        "    print(f'sub_df {x}/{bins}')\n",
        "    heatmap(sub_dfs[x])\n",
        "    z_min = sub_dfs[x]['z'].min()\n",
        "    z_max = sub_dfs[x]['z'].max()\n",
        "    print(f\"Minimum value of 'z': {z_min}\")\n",
        "    print(f\"Maximum value of 'z': {z_max}\")\n",
        "    print(\"*******************************\")\n",
        "\n",
        "print(\"Note Z do not means position here\")\n",
        "print('try put your mouse on the pictures')"
      ],
      "metadata": {
        "id": "RyrH2tIheGa8"
      },
      "execution_count": null,
      "outputs": []
    },
    {
      "cell_type": "markdown",
      "source": [
        "**Triditional spinner**"
      ],
      "metadata": {
        "id": "-WvPRhGseg4w"
      }
    },
    {
      "cell_type": "code",
      "source": [
        "def spinner_maker(zmin,zmax,df):\n",
        "  subdf = df[(df['z'] >= zmin) & (df['z'] <= zmax)]\n",
        "  return subdf\n",
        "\n",
        "#e.g.: spinnerchoosed=[[-20,0],[-200,-180],[-410,-390]]\n",
        "spinnerchoosed =\n",
        "for x in spinnerchoosed:\n",
        "  spinner = spinner_maker(x[0],x[1],sorted_df)\n",
        "  heatmap(spinner)\n",
        "  print(\"*******************************\")\n",
        "  print(f\"Minimum value of 'z': {x[0]}\")\n",
        "  print(f\"Maximum value of 'z': {x[1]}\")\n",
        "  print(\"*******************************\")\n",
        "\n",
        "\n",
        "\n"
      ],
      "metadata": {
        "id": "evVFy8UDarPI"
      },
      "execution_count": null,
      "outputs": []
    },
    {
      "cell_type": "markdown",
      "metadata": {
        "id": "WQ5IrT6es9fi"
      },
      "source": [
        "Collect you data here if you need\n",
        "\n",
        "Double click to use"
      ]
    },
    {
      "cell_type": "markdown",
      "metadata": {
        "id": "ccqfPgGpCZGQ"
      },
      "source": [
        "| bin no | pole x | pole y | z min | z max |\n",
        "|----------|----------|----------|----------|----------|\n",
        "| - | - | - | - | -\n"
      ]
    },
    {
      "cell_type": "markdown",
      "source": [
        "| bin no | pole x | pole y | z min | z max |\n",
        "|----------|----------|----------|----------|----------|\n",
        "| - | - | - | - | -\n"
      ],
      "metadata": {
        "id": "WD4SBH4weuQn"
      }
    }
  ],
  "metadata": {
    "colab": {
      "machine_shape": "hm",
      "provenance": [],
      "authorship_tag": "ABX9TyNlEZEfjyOCl4M6DSru1akF",
      "include_colab_link": true
    },
    "kernelspec": {
      "display_name": "Python 3",
      "name": "python3"
    },
    "language_info": {
      "name": "python"
    }
  },
  "nbformat": 4,
  "nbformat_minor": 0
}